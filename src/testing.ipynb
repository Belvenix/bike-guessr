{
 "cells": [
  {
   "cell_type": "code",
   "execution_count": 1,
   "metadata": {},
   "outputs": [],
   "source": [
    "import osmnx as ox\n",
    "import networkx as nx\n",
    "from datamanipulation.divide_net import divide_net\n",
    "from linkprediction.resource_allocation import RA\n",
    "from linkprediction.local_random_walk import LRW\n",
    "from linkprediction.stochastic_block_model import SBM\n",
    "import numpy as np\n",
    "from tqdm import tqdm_notebook"
   ]
  },
  {
   "cell_type": "code",
   "execution_count": 2,
   "metadata": {},
   "outputs": [],
   "source": [
    "wroclaw = ox.io.load_graphml('./data/data_train/Wroclaw_Polska_recent.xml')\n",
    "nx.readwrite.write_edgelist(wroclaw, './data/data_train/Wroclaw_Polska_recent.csv')\n",
    "sparse_matrix = nx.convert_matrix.to_scipy_sparse_array(wroclaw)"
   ]
  },
  {
   "cell_type": "code",
   "execution_count": 4,
   "metadata": {},
   "outputs": [],
   "source": [
    "train, test = divide_net(sparse_matrix, .9)\n",
    "\n",
    "#nodedegree = np.sum(train, axis=1)\n",
    "#tempauc = RA(train, test, nodedegree)\n",
    "#print(f\"RA auc is equal to: {tempauc}\")\n",
    "#tempauc = LRW(train, test, 3, 0.85)\n",
    "#print(f\"LRW with 3 steps auc is equal to: {tempauc}\")\n"
   ]
  },
  {
   "cell_type": "code",
   "execution_count": null,
   "metadata": {},
   "outputs": [],
   "source": [
    "np.matrix(train).astype(np.bool_)"
   ]
  },
  {
   "cell_type": "code",
   "execution_count": 9,
   "metadata": {},
   "outputs": [],
   "source": [
    "tempauc = SBM(np.matrix(train).astype(np.double), np.matrix(test).astype(np.double), 12.0)"
   ]
  },
  {
   "cell_type": "code",
   "execution_count": 33,
   "metadata": {},
   "outputs": [],
   "source": [
    "from urban import ipdc\n",
    "import traceback\n",
    "\n",
    "import csv\n",
    "from tqdm import tqdm\n",
    "\n",
    "import warnings\n",
    "warnings.filterwarnings('ignore')\n",
    "\n",
    "cities = {}\n",
    "\n",
    "with open('./cities_w_cords.csv') as f:\n",
    "        csvreader = csv.DictReader(f, delimiter=';')\n",
    "        for row in csvreader:\n",
    "            cities[row['placeid']] = {}\n",
    "            for field in csvreader.fieldnames[1:]:\n",
    "                cities[row['placeid']][field] = row[field]   "
   ]
  },
  {
   "cell_type": "code",
   "execution_count": 34,
   "metadata": {},
   "outputs": [
    {
     "data": {
      "text/plain": [
       "{'nominatimstring': 'zurich',\n",
       " 'countryid': 'che',\n",
       " 'name': 'Zurich',\n",
       " 'lat': '47.3786',\n",
       " 'lng': '8.54'}"
      ]
     },
     "execution_count": 34,
     "metadata": {},
     "output_type": "execute_result"
    }
   ],
   "source": [
    "cities['zurich']"
   ]
  },
  {
   "cell_type": "code",
   "execution_count": 10,
   "metadata": {},
   "outputs": [],
   "source": [
    "# SETUP\n",
    "\n",
    "%run -i software/FixBike/packages.py\n",
    "\n",
    "# import parameters for plotting\n",
    "%run -i software/FixBike/parameters_plot.py"
   ]
  },
  {
   "cell_type": "code",
   "execution_count": 15,
   "metadata": {},
   "outputs": [],
   "source": [
    "# IMPORT OBJECTS FROM PREVIOUS STEPS\n",
    "\n",
    "H = nx.read_gpickle(\"./data/zurich/pickle/H.gpickle\")\n",
    "gaps_final = pd.read_pickle(\"./data/zurich/pickle/mygaps.pickle\")\n",
    "\n",
    "# NX attribute dicts (for plotting)\n",
    "ced = nx.get_edge_attributes(H, \"coord\") # coordinates of edges dictionary ced\n",
    "ted = nx.get_edge_attributes(H, \"category_edge\") # type of edges dictionary ted\n",
    "tnd = nx.get_node_attributes(H, \"category_node\") # type of nodes dictionary tnd\n",
    "cnd = nx.get_node_attributes(H, \"coord\") # coordinates of nodes dictionary cnd"
   ]
  },
  {
   "cell_type": "code",
   "execution_count": 16,
   "metadata": {},
   "outputs": [
    {
     "data": {
      "text/plain": [
       "Index(['path', 'length', 'path_nx', 'o_nx', 'd_nx', 'gapcoord', 'length_b',\n",
       "       'detour', 'B_star', 'B'],\n",
       "      dtype='object')"
      ]
     },
     "execution_count": 16,
     "metadata": {},
     "output_type": "execute_result"
    }
   ],
   "source": [
    "gaps_final.columns"
   ]
  },
  {
   "cell_type": "code",
   "execution_count": null,
   "metadata": {},
   "outputs": [],
   "source": [
    "### SET UP MAP WITH FOLIUM\n",
    "\n",
    "# make map object\n",
    "\n",
    "# coopenhagen coordinates\n",
    "mycity_coord = [55.6761, 12.5683]\n",
    "\n",
    "m = folium.Map(location = mycity_coord, zoom_start = 13, tiles = None) \n",
    "\n",
    "# add tile layers to m\n",
    "for key in [\"osm\", \"st_lite_op3\", \"white_background\", \"Google Satellite\"]:\n",
    "    basemaps[key].add_to(m)\n",
    "    \n",
    "##### plot car, onlybike, and multinetworks #####\n",
    "snw = folium.FeatureGroup(name = \"All streets\", show = True)\n",
    "bnw = folium.FeatureGroup(name = \"Bikeable\", show = True) # bikeable edges \n",
    "\n",
    "sloc = []\n",
    "bloc = []\n",
    "\n",
    "for edge in H.edges:\n",
    "    myloc = [(c[1], c[0]) for c in ced[tuple(sorted(edge))].coords]\n",
    "    sloc.append(myloc)\n",
    "    if ted[edge] != \"car\":\n",
    "        bloc.append(myloc)\n",
    "        \n",
    "snw_line = folium.PolyLine(locations = sloc, weight = 2, color = \"#dadada\").add_to(snw)\n",
    "bnw_line = folium.PolyLine(locations = bloc, weight = 3, color = \"black\").add_to(bnw)\n",
    "\n",
    "snw.add_to(m)\n",
    "bnw.add_to(m)\n",
    "\n",
    "\n",
    "#### ADD TO MAP \n",
    "\n",
    "\n",
    "gaps_fg = folium.FeatureGroup(\"Declustered gaps\", show = True)\n",
    "\n",
    "for locs in gap_dec[\"coord\"]:\n",
    "    myline = folium.PolyLine(locations = locs,\n",
    "                                weight = 6,\n",
    "                                color = \"black\").add_to(gaps_fg) # black border\n",
    "    # + randomly colored gaps (not classified yet):\n",
    "    myline = folium.PolyLine(locations = locs,\n",
    "                                weight = 4,\n",
    "                                color = random.choice([\"#33FFDA\", \"#0AB023\", \"#B00A60\", \"#0A3CB0\"])).add_to(gaps_fg)\n",
    "\n",
    "gaps_fg.add_to(m)\n",
    "\n",
    "\n",
    "my_fg_nr = folium.FeatureGroup(\"Gap numbers\", show = False)\n",
    "\n",
    "# Add pop-ups with gap number\n",
    "\n",
    "for i in range(len(gap_dec)):\n",
    "    \n",
    "    my_marker = folium.Marker(location = gap_dec.loc[i][\"coord\"][0][0], \n",
    "                                    popup = \"Gap \" + str(i)\n",
    "                             ).add_to(my_fg_nr)\n",
    "                  \n",
    "my_fg_nr.add_to(m)\n",
    "\n",
    "### ADD LAYER CONTROL AND SAVE / DISPLAY FOLIUM MAP\n",
    "folium.LayerControl().add_to(m)  \n",
    "\n",
    "m.save(\"./analysis/gaps_declustered_plot.html\")"
   ]
  }
 ],
 "metadata": {
  "kernelspec": {
   "display_name": "venv",
   "language": "python",
   "name": "python3"
  },
  "language_info": {
   "codemirror_mode": {
    "name": "ipython",
    "version": 3
   },
   "file_extension": ".py",
   "mimetype": "text/x-python",
   "name": "python",
   "nbconvert_exporter": "python",
   "pygments_lexer": "ipython3",
   "version": "3.8.10"
  },
  "orig_nbformat": 4,
  "vscode": {
   "interpreter": {
    "hash": "124d5177d2be853623639de9b527f7f26c10d5a52257842926155039ce1de2b9"
   }
  }
 },
 "nbformat": 4,
 "nbformat_minor": 2
}
